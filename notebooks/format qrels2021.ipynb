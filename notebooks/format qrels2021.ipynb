{
 "cells": [
  {
   "cell_type": "markdown",
   "id": "c081795d-1020-4ab4-b5eb-8903b24e10ff",
   "metadata": {},
   "source": [
    "# Format Qrels 2021"
   ]
  },
  {
   "cell_type": "code",
   "execution_count": 23,
   "id": "05a8b5ca-3f8a-473a-bf27-c6bfc5ad79df",
   "metadata": {},
   "outputs": [],
   "source": [
    "import pandas as pd"
   ]
  },
  {
   "cell_type": "code",
   "execution_count": 31,
   "id": "fed76bf2-781a-42c1-bc7c-6465491cdf0b",
   "metadata": {},
   "outputs": [],
   "source": [
    "qrels2021 = pd.read_csv(\"../input/qrels2021.txt\", sep = \" \", names = [\"qid\", \"iter\", \"doc_id\", \"rel\"])\n",
    "\n",
    "qrels2021[\"rel\"].where(qrels2021['rel'] == 2, 0, inplace = True)\n",
    "qrels2021[\"rel\"].mask(qrels2021['rel'] == 2, 1, inplace = True)"
   ]
  },
  {
   "cell_type": "code",
   "execution_count": 32,
   "id": "0236f867-1992-4ceb-8815-13badbbf74b5",
   "metadata": {},
   "outputs": [
    {
     "data": {
      "text/html": [
       "<div>\n",
       "<style scoped>\n",
       "    .dataframe tbody tr th:only-of-type {\n",
       "        vertical-align: middle;\n",
       "    }\n",
       "\n",
       "    .dataframe tbody tr th {\n",
       "        vertical-align: top;\n",
       "    }\n",
       "\n",
       "    .dataframe thead th {\n",
       "        text-align: right;\n",
       "    }\n",
       "</style>\n",
       "<table border=\"1\" class=\"dataframe\">\n",
       "  <thead>\n",
       "    <tr style=\"text-align: right;\">\n",
       "      <th></th>\n",
       "      <th>qid</th>\n",
       "      <th>iter</th>\n",
       "      <th>doc_id</th>\n",
       "      <th>rel</th>\n",
       "    </tr>\n",
       "  </thead>\n",
       "  <tbody>\n",
       "    <tr>\n",
       "      <th>0</th>\n",
       "      <td>1</td>\n",
       "      <td>0</td>\n",
       "      <td>NCT00002569</td>\n",
       "      <td>0</td>\n",
       "    </tr>\n",
       "    <tr>\n",
       "      <th>1</th>\n",
       "      <td>1</td>\n",
       "      <td>0</td>\n",
       "      <td>NCT00002620</td>\n",
       "      <td>0</td>\n",
       "    </tr>\n",
       "    <tr>\n",
       "      <th>2</th>\n",
       "      <td>1</td>\n",
       "      <td>0</td>\n",
       "      <td>NCT00002806</td>\n",
       "      <td>0</td>\n",
       "    </tr>\n",
       "    <tr>\n",
       "      <th>3</th>\n",
       "      <td>1</td>\n",
       "      <td>0</td>\n",
       "      <td>NCT00002814</td>\n",
       "      <td>1</td>\n",
       "    </tr>\n",
       "    <tr>\n",
       "      <th>4</th>\n",
       "      <td>1</td>\n",
       "      <td>0</td>\n",
       "      <td>NCT00003022</td>\n",
       "      <td>0</td>\n",
       "    </tr>\n",
       "    <tr>\n",
       "      <th>...</th>\n",
       "      <td>...</td>\n",
       "      <td>...</td>\n",
       "      <td>...</td>\n",
       "      <td>...</td>\n",
       "    </tr>\n",
       "    <tr>\n",
       "      <th>35827</th>\n",
       "      <td>75</td>\n",
       "      <td>0</td>\n",
       "      <td>NCT04810104</td>\n",
       "      <td>1</td>\n",
       "    </tr>\n",
       "    <tr>\n",
       "      <th>35828</th>\n",
       "      <td>75</td>\n",
       "      <td>0</td>\n",
       "      <td>NCT04821830</td>\n",
       "      <td>1</td>\n",
       "    </tr>\n",
       "    <tr>\n",
       "      <th>35829</th>\n",
       "      <td>75</td>\n",
       "      <td>0</td>\n",
       "      <td>NCT04825626</td>\n",
       "      <td>0</td>\n",
       "    </tr>\n",
       "    <tr>\n",
       "      <th>35830</th>\n",
       "      <td>75</td>\n",
       "      <td>0</td>\n",
       "      <td>NCT04856072</td>\n",
       "      <td>0</td>\n",
       "    </tr>\n",
       "    <tr>\n",
       "      <th>35831</th>\n",
       "      <td>75</td>\n",
       "      <td>0</td>\n",
       "      <td>NCT04858074</td>\n",
       "      <td>0</td>\n",
       "    </tr>\n",
       "  </tbody>\n",
       "</table>\n",
       "<p>35832 rows × 4 columns</p>\n",
       "</div>"
      ],
      "text/plain": [
       "       qid  iter       doc_id  rel\n",
       "0        1     0  NCT00002569    0\n",
       "1        1     0  NCT00002620    0\n",
       "2        1     0  NCT00002806    0\n",
       "3        1     0  NCT00002814    1\n",
       "4        1     0  NCT00003022    0\n",
       "...    ...   ...          ...  ...\n",
       "35827   75     0  NCT04810104    1\n",
       "35828   75     0  NCT04821830    1\n",
       "35829   75     0  NCT04825626    0\n",
       "35830   75     0  NCT04856072    0\n",
       "35831   75     0  NCT04858074    0\n",
       "\n",
       "[35832 rows x 4 columns]"
      ]
     },
     "execution_count": 32,
     "metadata": {},
     "output_type": "execute_result"
    }
   ],
   "source": [
    "qrels2021.to_csv(\"../input/qrels2021_train.txt\", sep = \" \")"
   ]
  },
  {
   "cell_type": "code",
   "execution_count": null,
   "id": "423f074e-160a-4431-a52d-19dcfe807544",
   "metadata": {},
   "outputs": [],
   "source": []
  }
 ],
 "metadata": {
  "kernelspec": {
   "display_name": "nlp",
   "language": "python",
   "name": "nlp"
  },
  "language_info": {
   "codemirror_mode": {
    "name": "ipython",
    "version": 3
   },
   "file_extension": ".py",
   "mimetype": "text/x-python",
   "name": "python",
   "nbconvert_exporter": "python",
   "pygments_lexer": "ipython3",
   "version": "3.9.12"
  }
 },
 "nbformat": 4,
 "nbformat_minor": 5
}
