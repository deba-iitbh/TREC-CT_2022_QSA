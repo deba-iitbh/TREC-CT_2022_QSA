{
 "cells": [
  {
   "cell_type": "markdown",
   "id": "2fc949d4-7dc7-4ecb-8cb1-71f6d7648a3b",
   "metadata": {
    "jp-MarkdownHeadingCollapsed": true
   },
   "source": [
    "# Get Relevant docs"
   ]
  },
  {
   "cell_type": "code",
   "execution_count": null,
   "id": "ba990e5c-8369-4cf4-96b0-fb5cdf5b677f",
   "metadata": {},
   "outputs": [],
   "source": [
    "import pandas as pd\n",
    "import json\n",
    "import pickle"
   ]
  },
  {
   "cell_type": "code",
   "execution_count": null,
   "id": "586a760d-7185-46ea-b87a-472d89c59427",
   "metadata": {},
   "outputs": [],
   "source": [
    "df2022 = pd.read_csv(\"../input/BM25_2022.txt\", sep = \" \", names = [\"qid\", \"Q0\", \"doc_id\", \"iter\", \"conf\", \"run_name\"])"
   ]
  },
  {
   "cell_type": "code",
   "execution_count": null,
   "id": "58656d7f-4ed7-4f70-8456-7602f451509b",
   "metadata": {
    "scrolled": true
   },
   "outputs": [],
   "source": [
    "udoc_ids = df2022.doc_id.unique().tolist()"
   ]
  },
  {
   "cell_type": "code",
   "execution_count": null,
   "id": "8f78b687-93e3-4b32-b38f-a5c0ef5da9b9",
   "metadata": {},
   "outputs": [],
   "source": [
    "with open(\"../input/trec-ct-json/trec21_content.json\", \"r\") as f:\n",
    "  trec_ct = json.load(f)"
   ]
  },
  {
   "cell_type": "code",
   "execution_count": null,
   "id": "7e39e8be-a856-4d6c-9271-26de268d1adf",
   "metadata": {},
   "outputs": [],
   "source": [
    "len(trec_ct)"
   ]
  },
  {
   "cell_type": "code",
   "execution_count": null,
   "id": "452c510f-8780-4711-977a-ed2a6c91b23b",
   "metadata": {},
   "outputs": [],
   "source": [
    "trec_ct[0]"
   ]
  },
  {
   "cell_type": "code",
   "execution_count": null,
   "id": "421c4824-f6cc-4be4-ba9d-9d7b3967eb20",
   "metadata": {},
   "outputs": [],
   "source": [
    "req_docs = []\n",
    "for ct in trec_ct:\n",
    "  if ct['id'] in udoc_ids:\n",
    "    req_docs.append(ct)"
   ]
  },
  {
   "cell_type": "code",
   "execution_count": null,
   "id": "9979e9e8-1832-4cb4-816b-96d7c6111694",
   "metadata": {},
   "outputs": [],
   "source": [
    "req_docs[0]"
   ]
  },
  {
   "cell_type": "code",
   "execution_count": null,
   "id": "5790c7c8-bb44-4ead-98a0-a60b6f224bf4",
   "metadata": {},
   "outputs": [],
   "source": [
    "df22 = pd.DataFrame(columns = [\"doc_id\", \"summary\"])"
   ]
  },
  {
   "cell_type": "code",
   "execution_count": null,
   "id": "5ac8f411-300a-472b-aa2b-6a452c91bf87",
   "metadata": {
    "scrolled": true
   },
   "outputs": [],
   "source": [
    "for ct in req_docs:\n",
    "  df22 = df22.append({'doc_id' : ct['id'], 'summary': ct['contents']}, ignore_index = True);"
   ]
  },
  {
   "cell_type": "code",
   "execution_count": null,
   "id": "6860bb93-7c4d-42e4-af6d-83dfdeb79e59",
   "metadata": {},
   "outputs": [],
   "source": [
    "df22"
   ]
  },
  {
   "cell_type": "code",
   "execution_count": null,
   "id": "6d5a576d-1e71-4b5a-a13f-bffb72c71838",
   "metadata": {},
   "outputs": [],
   "source": [
    "df22.to_csv(\"../input/trec-ct-json/trec22.csv\", index = False)"
   ]
  },
  {
   "cell_type": "code",
   "execution_count": null,
   "id": "47c49739-720d-496d-b4b7-e8d5cbf1d126",
   "metadata": {},
   "outputs": [],
   "source": [
    "df22.shape"
   ]
  },
  {
   "cell_type": "markdown",
   "id": "2ead38ca-25e3-4e66-b852-2c57a424eed0",
   "metadata": {},
   "source": [
    "# BM25 to qrels"
   ]
  },
  {
   "cell_type": "code",
   "execution_count": null,
   "id": "e16d6e72-5c41-4370-b3db-f4b3c7cbbc61",
   "metadata": {},
   "outputs": [],
   "source": [
    "import pandas as pd\n",
    "\n",
    "df2021 = pd.read_csv(\"../input/BM25_FQ_2021.txt\", sep = \" \", names = [\"qid\", \"Q0\", \"doc_id\", \"iter\", \"conf\", \"run_name\"])\n",
    "bmrel2021 = df2021[[\"qid\", \"doc_id\"]]\n",
    "bmrel2021[\"qid\"] = bmrel2021[\"qid\"] + 1\n",
    "bmrel2021.to_csv(\"../input/bmrels2021.csv\", index = False)"
   ]
  },
  {
   "cell_type": "code",
   "execution_count": null,
   "id": "18025b74-f124-4e97-a696-9a87a135f90e",
   "metadata": {},
   "outputs": [],
   "source": [
    "df2022 = pd.read_csv(\"../input/BM25_FQ_2022.txt\", sep = \" \", names = [\"qid\", \"Q0\", \"doc_id\", \"iter\", \"conf\", \"run_name\"])\n",
    "bmrel2022 = df2022[[\"qid\", \"doc_id\"]]\n",
    "bmrel2022[\"qid\"] = bmrel2022[\"qid\"] + 1\n",
    "bmrel2022.to_csv(\"../input/bmrels2022.csv\", index = False)"
   ]
  },
  {
   "cell_type": "code",
   "execution_count": null,
   "id": "fdefccbf-80af-4de5-b04e-3fb9bb695cfc",
   "metadata": {},
   "outputs": [],
   "source": []
  },
  {
   "cell_type": "code",
   "execution_count": 1,
   "id": "555365a7-09df-4849-b019-8fff51c43ed4",
   "metadata": {},
   "outputs": [],
   "source": [
    "import pandas as pd"
   ]
  },
  {
   "cell_type": "code",
   "execution_count": 8,
   "id": "cd84fecc-1287-4c4c-9c87-dc222c019015",
   "metadata": {},
   "outputs": [],
   "source": [
    "# df2021 = pd.read_csv(\"../input/BM25_KW_2021.txt\", sep = \" \", names = [\"qid\", \"Q0\", \"doc_id\", \"iter\", \"conf\", \"run_name\"])\n",
    "# df2021[\"qid\"] = df2021[\"qid\"] + 1\n",
    "# df2021.to_csv(\"../input/BM25_KW_2021.txt\", index = False, header = False, sep = \" \")"
   ]
  },
  {
   "cell_type": "code",
   "execution_count": 9,
   "id": "c7c1f52a-e368-4a06-8147-49a13684a6e4",
   "metadata": {},
   "outputs": [],
   "source": [
    "# df2022 = pd.read_csv(\"../input/BM25_KW_2022.txt\", sep = \" \", names = [\"qid\", \"Q0\", \"doc_id\", \"iter\", \"conf\", \"run_name\"])\n",
    "# df2022[\"qid\"] = df2022[\"qid\"] + 1\n",
    "# df2022.to_csv(\"../input/BM25_KW_2022.txt\", index = False, header = False, sep = \" \")"
   ]
  },
  {
   "cell_type": "code",
   "execution_count": null,
   "id": "141b4af4-1183-473a-8c96-bb04408160a3",
   "metadata": {},
   "outputs": [],
   "source": []
  }
 ],
 "metadata": {
  "kernelspec": {
   "display_name": "nlp",
   "language": "python",
   "name": "nlp"
  },
  "language_info": {
   "codemirror_mode": {
    "name": "ipython",
    "version": 3
   },
   "file_extension": ".py",
   "mimetype": "text/x-python",
   "name": "python",
   "nbconvert_exporter": "python",
   "pygments_lexer": "ipython3",
   "version": "3.9.12"
  }
 },
 "nbformat": 4,
 "nbformat_minor": 5
}
