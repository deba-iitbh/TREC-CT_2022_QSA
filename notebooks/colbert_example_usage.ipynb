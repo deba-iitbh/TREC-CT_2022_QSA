{
 "cells": [
  {
   "cell_type": "markdown",
   "metadata": {
    "id": "Ng63tDwZSSm5"
   },
   "source": [
    "# Using Our Margin-MSE trained ColBERT Checkpoint"
   ]
  },
  {
   "cell_type": "markdown",
   "metadata": {
    "id": "YqkWDa_jWu7c"
   },
   "source": [
    "The next step is to download our checkpoint and initialize the tokenizer and models:\r\n"
   ]
  },
  {
   "cell_type": "code",
   "execution_count": 18,
   "metadata": {
    "id": "oTYEtziISSDl"
   },
   "outputs": [
    {
     "name": "stderr",
     "output_type": "stream",
     "text": [
      "Some weights of the model checkpoint at distilbert-base-uncased were not used when initializing DistilBertModel: ['vocab_transform.bias', 'vocab_layer_norm.bias', 'vocab_layer_norm.weight', 'vocab_projector.bias', 'vocab_projector.weight', 'vocab_transform.weight']\n",
      "- This IS expected if you are initializing DistilBertModel from the checkpoint of a model trained on another task or with another architecture (e.g. initializing a BertForSequenceClassification model from a BertForPreTraining model).\n",
      "- This IS NOT expected if you are initializing DistilBertModel from the checkpoint of a model that you expect to be exactly identical (initializing a BertForSequenceClassification model from a BertForSequenceClassification model).\n"
     ]
    }
   ],
   "source": [
    "from transformers import AutoTokenizer,AutoModel, PreTrainedModel,PretrainedConfig\n",
    "from typing import Dict\n",
    "import torch\n",
    "\n",
    "class ColBERTConfig(PretrainedConfig):\n",
    "    model_type = \"ColBERT\"\n",
    "    bert_model: str\n",
    "    compression_dim: int = 768\n",
    "    dropout: float = 0.0\n",
    "    return_vecs: bool = False\n",
    "    trainable: bool = True\n",
    "\n",
    "class ColBERT(PreTrainedModel):\n",
    "    \"\"\"\n",
    "    ColBERT model from: https://arxiv.org/pdf/2004.12832.pdf\n",
    "    We use a dot-product instead of cosine per term (slightly better)\n",
    "    \"\"\"\n",
    "    config_class = ColBERTConfig\n",
    "    base_model_prefix = \"bert_model\"\n",
    "\n",
    "    def __init__(self,\n",
    "                 cfg) -> None:\n",
    "        super().__init__(cfg)\n",
    "        \n",
    "        self.bert_model = AutoModel.from_pretrained(cfg.bert_model)\n",
    "\n",
    "        for p in self.bert_model.parameters():\n",
    "            p.requires_grad = cfg.trainable\n",
    "\n",
    "        self.compressor = torch.nn.Linear(self.bert_model.config.hidden_size, cfg.compression_dim)\n",
    "\n",
    "    def forward(self,\n",
    "                query: Dict[str, torch.LongTensor],\n",
    "                document: Dict[str, torch.LongTensor]):\n",
    "\n",
    "        query_vecs = self.forward_representation(query)\n",
    "        document_vecs = self.forward_representation(document)\n",
    "\n",
    "        score = self.forward_aggregation(query_vecs,document_vecs,query[\"attention_mask\"],document[\"attention_mask\"])\n",
    "        return score\n",
    "\n",
    "    def forward_representation(self,\n",
    "                               tokens,\n",
    "                               sequence_type=None) -> torch.Tensor:\n",
    "        \n",
    "        vecs = self.bert_model(**tokens)[0] # assuming a distilbert model here\n",
    "        vecs = self.compressor(vecs)\n",
    "\n",
    "        # if encoding only, zero-out the mask values so we can compress storage\n",
    "        if sequence_type == \"doc_encode\" or sequence_type == \"query_encode\": \n",
    "            vecs = vecs * tokens[\"tokens\"][\"mask\"].unsqueeze(-1)\n",
    "\n",
    "        return vecs\n",
    "\n",
    "    def forward_aggregation(self,query_vecs, document_vecs,query_mask,document_mask):\n",
    "        \n",
    "        # create initial term-x-term scores (dot-product)\n",
    "        score = torch.bmm(query_vecs, document_vecs.transpose(2,1))\n",
    "\n",
    "        # mask out padding on the doc dimension (mask by -1000, because max should not select those, setting it to 0 might select them)\n",
    "        exp_mask = document_mask.bool().unsqueeze(1).expand(-1,score.shape[1],-1)\n",
    "        score[~exp_mask] = - 10000\n",
    "\n",
    "        # max pooling over document dimension\n",
    "        score = score.max(-1).values\n",
    "\n",
    "        # mask out paddding query values\n",
    "        score[~(query_mask.bool())] = 0\n",
    "\n",
    "        # sum over query values\n",
    "        score = score.sum(-1)\n",
    "\n",
    "        return score\n",
    "\n",
    "#\n",
    "# init the model & tokenizer (using the distilbert tokenizer)\n",
    "#\n",
    "tokenizer = AutoTokenizer.from_pretrained(\"distilbert-base-uncased\") # honestly not sure if that is the best way to go, but it works :)\n",
    "model = ColBERT.from_pretrained(\"sebastian-hofstaetter/colbert-distilbert-margin_mse-T2-msmarco\")"
   ]
  },
  {
   "cell_type": "markdown",
   "metadata": {
    "id": "EOGT8YQQX1Ot"
   },
   "source": [
    "Now we are ready to use the model to encode two sample passage and query pairs (this would be the re-ranking mode, where we have a candidate list - for indexing or pre-compute mode you need to call forward_representation and forward_aggregation independently):"
   ]
  },
  {
   "cell_type": "code",
   "execution_count": 31,
   "metadata": {
    "colab": {
     "base_uri": "https://localhost:8080/"
    },
    "id": "Rzt9Ix9UYMLy",
    "outputId": "529e338e-b4e7-4251-cf9b-4363ac8a3ed8"
   },
   "outputs": [
    {
     "ename": "TypeError",
     "evalue": "DistilBertModel(\n  (embeddings): Embeddings(\n    (word_embeddings): Embedding(30522, 768, padding_idx=0)\n    (position_embeddings): Embedding(512, 768)\n    (LayerNorm): LayerNorm((768,), eps=1e-12, elementwise_affine=True)\n    (dropout): Dropout(p=0.1, inplace=False)\n  )\n  (transformer): Transformer(\n    (layer): ModuleList(\n      (0-5): 6 x TransformerBlock(\n        (attention): MultiHeadSelfAttention(\n          (dropout): Dropout(p=0.1, inplace=False)\n          (q_lin): Linear(in_features=768, out_features=768, bias=True)\n          (k_lin): Linear(in_features=768, out_features=768, bias=True)\n          (v_lin): Linear(in_features=768, out_features=768, bias=True)\n          (out_lin): Linear(in_features=768, out_features=768, bias=True)\n        )\n        (sa_layer_norm): LayerNorm((768,), eps=1e-12, elementwise_affine=True)\n        (ffn): FFN(\n          (dropout): Dropout(p=0.1, inplace=False)\n          (lin1): Linear(in_features=768, out_features=3072, bias=True)\n          (lin2): Linear(in_features=3072, out_features=768, bias=True)\n          (activation): GELUActivation()\n        )\n        (output_layer_norm): LayerNorm((768,), eps=1e-12, elementwise_affine=True)\n      )\n    )\n  )\n) argument after ** must be a mapping, not list",
     "output_type": "error",
     "traceback": [
      "\u001b[0;31m---------------------------------------------------------------------------\u001b[0m",
      "\u001b[0;31mTypeError\u001b[0m                                 Traceback (most recent call last)",
      "Input \u001b[0;32mIn [31]\u001b[0m, in \u001b[0;36m<cell line: 22>\u001b[0;34m()\u001b[0m\n\u001b[1;32m     15\u001b[0m query_input[\u001b[38;5;124m\"\u001b[39m\u001b[38;5;124mattention_mask\u001b[39m\u001b[38;5;124m\"\u001b[39m] \u001b[38;5;241m=\u001b[39m torch\u001b[38;5;241m.\u001b[39mLongTensor(query_input\u001b[38;5;241m.\u001b[39mattention_mask)\u001b[38;5;241m.\u001b[39munsqueeze(\u001b[38;5;241m0\u001b[39m)\n\u001b[1;32m     17\u001b[0m \u001b[38;5;66;03m#print(\"Passage 1 Tokenized:\",passage1_input)\u001b[39;00m\n\u001b[1;32m     18\u001b[0m \u001b[38;5;66;03m#print(\"Passage 2 Tokenized:\",passage2_input)\u001b[39;00m\n\u001b[1;32m     19\u001b[0m \u001b[38;5;66;03m#print(\"Query Tokenized:\",query_input)\u001b[39;00m\n\u001b[1;32m     20\u001b[0m \n\u001b[1;32m     21\u001b[0m \u001b[38;5;66;03m# note how we call the bert model for pairs, can be changed to: forward_representation and forward_aggregation\u001b[39;00m\n\u001b[0;32m---> 22\u001b[0m score_for_p1 \u001b[38;5;241m=\u001b[39m \u001b[43mmodel\u001b[49m\u001b[38;5;241;43m.\u001b[39;49m\u001b[43mforward\u001b[49m\u001b[43m(\u001b[49m\u001b[43mquery_input\u001b[49m\u001b[43m,\u001b[49m\u001b[43m[\u001b[49m\u001b[43mpassage1_input\u001b[49m\u001b[43m,\u001b[49m\u001b[43m \u001b[49m\u001b[43mpassage2_input\u001b[49m\u001b[43m]\u001b[49m\u001b[43m)\u001b[49m\u001b[38;5;241m.\u001b[39msqueeze(\u001b[38;5;241m0\u001b[39m)\n\u001b[1;32m     23\u001b[0m \u001b[38;5;66;03m# score_for_p2 = model.forward(query_input,passage2_input).squeeze(0)\u001b[39;00m\n\u001b[1;32m     25\u001b[0m \u001b[38;5;28mprint\u001b[39m(\u001b[38;5;124m\"\u001b[39m\u001b[38;5;124m---\u001b[39m\u001b[38;5;124m\"\u001b[39m)\n",
      "Input \u001b[0;32mIn [18]\u001b[0m, in \u001b[0;36mColBERT.forward\u001b[0;34m(self, query, document)\u001b[0m\n\u001b[1;32m     32\u001b[0m \u001b[38;5;28;01mdef\u001b[39;00m \u001b[38;5;21mforward\u001b[39m(\u001b[38;5;28mself\u001b[39m,\n\u001b[1;32m     33\u001b[0m             query: Dict[\u001b[38;5;28mstr\u001b[39m, torch\u001b[38;5;241m.\u001b[39mLongTensor],\n\u001b[1;32m     34\u001b[0m             document: Dict[\u001b[38;5;28mstr\u001b[39m, torch\u001b[38;5;241m.\u001b[39mLongTensor]):\n\u001b[1;32m     36\u001b[0m     query_vecs \u001b[38;5;241m=\u001b[39m \u001b[38;5;28mself\u001b[39m\u001b[38;5;241m.\u001b[39mforward_representation(query)\n\u001b[0;32m---> 37\u001b[0m     document_vecs \u001b[38;5;241m=\u001b[39m \u001b[38;5;28;43mself\u001b[39;49m\u001b[38;5;241;43m.\u001b[39;49m\u001b[43mforward_representation\u001b[49m\u001b[43m(\u001b[49m\u001b[43mdocument\u001b[49m\u001b[43m)\u001b[49m\n\u001b[1;32m     39\u001b[0m     score \u001b[38;5;241m=\u001b[39m \u001b[38;5;28mself\u001b[39m\u001b[38;5;241m.\u001b[39mforward_aggregation(query_vecs,document_vecs,query[\u001b[38;5;124m\"\u001b[39m\u001b[38;5;124mattention_mask\u001b[39m\u001b[38;5;124m\"\u001b[39m],document[\u001b[38;5;124m\"\u001b[39m\u001b[38;5;124mattention_mask\u001b[39m\u001b[38;5;124m\"\u001b[39m])\n\u001b[1;32m     40\u001b[0m     \u001b[38;5;28;01mreturn\u001b[39;00m score\n",
      "Input \u001b[0;32mIn [18]\u001b[0m, in \u001b[0;36mColBERT.forward_representation\u001b[0;34m(self, tokens, sequence_type)\u001b[0m\n\u001b[1;32m     42\u001b[0m \u001b[38;5;28;01mdef\u001b[39;00m \u001b[38;5;21mforward_representation\u001b[39m(\u001b[38;5;28mself\u001b[39m,\n\u001b[1;32m     43\u001b[0m                            tokens,\n\u001b[1;32m     44\u001b[0m                            sequence_type\u001b[38;5;241m=\u001b[39m\u001b[38;5;28;01mNone\u001b[39;00m) \u001b[38;5;241m-\u001b[39m\u001b[38;5;241m>\u001b[39m torch\u001b[38;5;241m.\u001b[39mTensor:\n\u001b[0;32m---> 46\u001b[0m     vecs \u001b[38;5;241m=\u001b[39m \u001b[38;5;28mself\u001b[39m\u001b[38;5;241m.\u001b[39mbert_model(\u001b[38;5;241m*\u001b[39m\u001b[38;5;241m*\u001b[39mtokens)[\u001b[38;5;241m0\u001b[39m] \u001b[38;5;66;03m# assuming a distilbert model here\u001b[39;00m\n\u001b[1;32m     47\u001b[0m     vecs \u001b[38;5;241m=\u001b[39m \u001b[38;5;28mself\u001b[39m\u001b[38;5;241m.\u001b[39mcompressor(vecs)\n\u001b[1;32m     49\u001b[0m     \u001b[38;5;66;03m# if encoding only, zero-out the mask values so we can compress storage\u001b[39;00m\n",
      "\u001b[0;31mTypeError\u001b[0m: DistilBertModel(\n  (embeddings): Embeddings(\n    (word_embeddings): Embedding(30522, 768, padding_idx=0)\n    (position_embeddings): Embedding(512, 768)\n    (LayerNorm): LayerNorm((768,), eps=1e-12, elementwise_affine=True)\n    (dropout): Dropout(p=0.1, inplace=False)\n  )\n  (transformer): Transformer(\n    (layer): ModuleList(\n      (0-5): 6 x TransformerBlock(\n        (attention): MultiHeadSelfAttention(\n          (dropout): Dropout(p=0.1, inplace=False)\n          (q_lin): Linear(in_features=768, out_features=768, bias=True)\n          (k_lin): Linear(in_features=768, out_features=768, bias=True)\n          (v_lin): Linear(in_features=768, out_features=768, bias=True)\n          (out_lin): Linear(in_features=768, out_features=768, bias=True)\n        )\n        (sa_layer_norm): LayerNorm((768,), eps=1e-12, elementwise_affine=True)\n        (ffn): FFN(\n          (dropout): Dropout(p=0.1, inplace=False)\n          (lin1): Linear(in_features=768, out_features=3072, bias=True)\n          (lin2): Linear(in_features=3072, out_features=768, bias=True)\n          (activation): GELUActivation()\n        )\n        (output_layer_norm): LayerNorm((768,), eps=1e-12, elementwise_affine=True)\n      )\n    )\n  )\n) argument after ** must be a mapping, not list"
     ]
    }
   ],
   "source": [
    "# our relevant example\n",
    "passage1_input = tokenizer(\"We are very happy to show you the 🤗 Transformers library for pre-trained language models. We are helping the community work together towards the goal of advancing NLP 🔥.\",return_tensors=\"pt\")\n",
    "# a non-relevant example\n",
    "passage2_input = tokenizer(\"Hmm I don't like this new movie about transformers that i got from my local library. Those transformers are robots?\",return_tensors=\"pt\")\n",
    "\n",
    "# the user query -> which should give us a better score for the first passage\n",
    "query_input = tokenizer(\"what is the transformers library\")\n",
    "# adding the mask augmentation, we used 8 as the fixed number for training regardless of batch-size\n",
    "# it has a somewhat (although not huge) positive impact on effectiveness, we hypothesize that might be due to the increased\n",
    "# capacity of the query encoding, not so much because of the [MASK] pre-training, but who knows :)\n",
    "query_input.input_ids += [103] * 8 # [MASK]\n",
    "query_input.attention_mask += [1] * 8\n",
    "\n",
    "query_input[\"input_ids\"] = torch.LongTensor(query_input.input_ids).unsqueeze(0)\n",
    "query_input[\"attention_mask\"] = torch.LongTensor(query_input.attention_mask).unsqueeze(0)\n",
    "\n",
    "#print(\"Passage 1 Tokenized:\",passage1_input)\n",
    "#print(\"Passage 2 Tokenized:\",passage2_input)\n",
    "#print(\"Query Tokenized:\",query_input)\n",
    "\n",
    "# note how we call the bert model for pairs, can be changed to: forward_representation and forward_aggregation\n",
    "score_for_p1 = model.forward(query_input,[passage1_input, passage2_input]).squeeze(0)\n",
    "# score_for_p2 = model.forward(query_input,passage2_input).squeeze(0)\n",
    "\n",
    "print(\"---\")\n",
    "print(\"Score passage 1 <-> query: \",float(score_for_p1))\n",
    "# print(\"Score passage 2 <-> query: \",float(score_for_p2))"
   ]
  },
  {
   "cell_type": "code",
   "execution_count": 25,
   "metadata": {},
   "outputs": [
    {
     "data": {
      "text/plain": [
       "torch.Size([1, 15])"
      ]
     },
     "execution_count": 25,
     "metadata": {},
     "output_type": "execute_result"
    }
   ],
   "source": [
    "query_input[\"input_ids\"].size()"
   ]
  },
  {
   "cell_type": "code",
   "execution_count": 28,
   "metadata": {},
   "outputs": [
    {
     "data": {
      "text/plain": [
       "{'input_ids': tensor([[ 101, 7632, 2045,  102]]), 'attention_mask': tensor([[1, 1, 1, 1]])}"
      ]
     },
     "execution_count": 28,
     "metadata": {},
     "output_type": "execute_result"
    }
   ],
   "source": [
    "tokenizer(\"hi there\", return_tensors = \"pt\")"
   ]
  },
  {
   "cell_type": "code",
   "execution_count": 30,
   "metadata": {},
   "outputs": [
    {
     "data": {
      "text/plain": [
       "tensor(106.4638, grad_fn=<SqueezeBackward1>)"
      ]
     },
     "execution_count": 30,
     "metadata": {},
     "output_type": "execute_result"
    }
   ],
   "source": [
    "score_for_p1.cpu()"
   ]
  },
  {
   "cell_type": "code",
   "execution_count": null,
   "metadata": {},
   "outputs": [],
   "source": []
  }
 ],
 "metadata": {
  "colab": {
   "name": "minimal_colbert_usage_example.ipynb",
   "provenance": []
  },
  "kernelspec": {
   "display_name": "nlp",
   "language": "python",
   "name": "nlp"
  },
  "language_info": {
   "codemirror_mode": {
    "name": "ipython",
    "version": 3
   },
   "file_extension": ".py",
   "mimetype": "text/x-python",
   "name": "python",
   "nbconvert_exporter": "python",
   "pygments_lexer": "ipython3",
   "version": "3.9.12"
  }
 },
 "nbformat": 4,
 "nbformat_minor": 4
}
