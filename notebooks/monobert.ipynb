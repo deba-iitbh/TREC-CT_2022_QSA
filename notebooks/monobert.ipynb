{
 "cells": [
  {
   "cell_type": "markdown",
   "id": "91b66e06-a30b-47f1-9ca8-1bbc92b3705f",
   "metadata": {
    "jp-MarkdownHeadingCollapsed": true,
    "tags": []
   },
   "source": [
    "# MonoBERT"
   ]
  },
  {
   "cell_type": "code",
   "execution_count": 1,
   "id": "e45322ca-e921-4fb8-b119-a05610ce5666",
   "metadata": {
    "tags": []
   },
   "outputs": [],
   "source": [
    "import pandas as pd\n",
    "import json\n",
    "from tqdm import tqdm\n",
    "import pickle\n",
    "import torch"
   ]
  },
  {
   "cell_type": "code",
   "execution_count": 2,
   "id": "549a0aa2-1022-4610-83c6-fb503e9ee16a",
   "metadata": {
    "tags": []
   },
   "outputs": [],
   "source": [
    "queries = pd.read_csv(\"../input/qrels2021.txt\", sep = \" \", header = None, names = [\"qid\", \"iter\", \"doc_id\", \"rel\"])"
   ]
  },
  {
   "cell_type": "code",
   "execution_count": 3,
   "id": "0f08ea6a-54c5-4f9e-b489-972c2c284e8e",
   "metadata": {
    "tags": []
   },
   "outputs": [],
   "source": [
    "queries.drop(\"iter\", axis = 1, inplace = True)"
   ]
  },
  {
   "cell_type": "code",
   "execution_count": 4,
   "id": "adff875f-dd3f-4a1e-aa24-7c0e56b3961e",
   "metadata": {
    "tags": []
   },
   "outputs": [],
   "source": [
    "uniq_docs = queries.doc_id.unique().tolist()"
   ]
  },
  {
   "cell_type": "code",
   "execution_count": 9,
   "id": "8f91a39b-7444-4a9c-bfd7-ee371bf32b54",
   "metadata": {
    "tags": []
   },
   "outputs": [
    {
     "name": "stderr",
     "output_type": "stream",
     "text": [
      "100%|█████████████████████████| 375580/375580 [01:21<00:00, 4603.11it/s]\n"
     ]
    }
   ],
   "source": [
    "with open(\"../input/trec-ct-json/trec21_content.json\", \"r\") as f:\n",
    "    docs = json.load(f) \n",
    "\n",
    "doc_dict = {}\n",
    "for doc in tqdm(docs, total = len(docs)):\n",
    "    if doc[\"id\"] in uniq_docs:\n",
    "        doc_dict[doc[\"id\"]] = doc[\"contents\"]\n",
    "\n",
    "# with open(\"../input/trec-ct-json/trec2021.pk\", \"wb\") as f:\n",
    "#     pickle.dump(doc_dict, f)"
   ]
  },
  {
   "cell_type": "code",
   "execution_count": 10,
   "id": "69fd333e-db6a-4b3a-9c4c-600a1e8fe62c",
   "metadata": {
    "tags": []
   },
   "outputs": [],
   "source": [
    "# with open(\"../input/trec-ct-json/trec2021.pk\", \"rb\") as f:\n",
    "#     trec21_docs = pickle.load(f)\n",
    "\n",
    "# trec21_docs\n",
    "\n",
    "data = {\n",
    "    'doc_id': doc_dict.keys(),\n",
    "    'k': doc_dict.values()\n",
    "       } \n",
    "\n",
    "docs21 = pd.DataFrame.from_dict(data)\n",
    "\n",
    "docs21.to_csv(\"../input/trec-ct-json/trec21-train.csv\", index = False)"
   ]
  },
  {
   "cell_type": "code",
   "execution_count": 8,
   "id": "f601a450-df11-46be-993a-f398823bf684",
   "metadata": {
    "tags": []
   },
   "outputs": [],
   "source": [
    "docs21 = pd.read_csv(\"../input/trec-ct-json/trec21.csv\", index_col = 0).to_dict()[\"summary\"]"
   ]
  },
  {
   "cell_type": "code",
   "execution_count": 10,
   "id": "4cf9a695-63a7-46ed-87de-f92c12390626",
   "metadata": {
    "tags": []
   },
   "outputs": [],
   "source": [
    "df = pd.read_csv(\"../input/qrels2021.csv\")"
   ]
  },
  {
   "cell_type": "code",
   "execution_count": 15,
   "id": "01037be3-5de9-4028-920e-fb358a432657",
   "metadata": {
    "tags": []
   },
   "outputs": [],
   "source": [
    "train_df = df[df.qid < 60]\n",
    "test_df = df[df.qid >= 60]"
   ]
  },
  {
   "cell_type": "code",
   "execution_count": 19,
   "id": "0b99cfbd-fcbc-4ced-bb5d-595ff94d0a9d",
   "metadata": {
    "tags": []
   },
   "outputs": [
    {
     "data": {
      "text/plain": [
       "array([1, 1, 0, ..., 2, 2, 2])"
      ]
     },
     "execution_count": 19,
     "metadata": {},
     "output_type": "execute_result"
    }
   ],
   "source": [
    "train_df.rel.values"
   ]
  },
  {
   "cell_type": "code",
   "execution_count": 35,
   "id": "7cf6314a-95c7-424b-a8b4-9556303fe6e6",
   "metadata": {
    "tags": []
   },
   "outputs": [
    {
     "data": {
      "text/plain": [
       "tensor([0.6706, 0.1688, 0.1606], dtype=torch.float64)"
      ]
     },
     "execution_count": 35,
     "metadata": {},
     "output_type": "execute_result"
    }
   ],
   "source": [
    "label_weights = train_df.rel.value_counts()/train_df.shape[0]\n",
    "torch.tensor(label_weights.values)"
   ]
  },
  {
   "cell_type": "code",
   "execution_count": 40,
   "id": "fe9aad1c-9f4c-4818-be87-06befb7ca0fc",
   "metadata": {
    "tags": []
   },
   "outputs": [
    {
     "data": {
      "text/html": [
       "<div>\n",
       "<style scoped>\n",
       "    .dataframe tbody tr th:only-of-type {\n",
       "        vertical-align: middle;\n",
       "    }\n",
       "\n",
       "    .dataframe tbody tr th {\n",
       "        vertical-align: top;\n",
       "    }\n",
       "\n",
       "    .dataframe thead th {\n",
       "        text-align: right;\n",
       "    }\n",
       "</style>\n",
       "<table border=\"1\" class=\"dataframe\">\n",
       "  <thead>\n",
       "    <tr style=\"text-align: right;\">\n",
       "      <th></th>\n",
       "      <th>Patient is a 45-year-old man with a history of anaplastic astrocytoma of the spine complicated by severe lower extremity weakness and urinary retention s/p Foley catheter, high-dose steroids, hypertension, and chronic pain. The tumor is located in the T-L spine, unresectable anaplastic astrocytoma s/p radiation. Complicated by progressive lower extremity weakness and urinary retention. Patient initially presented with RLE weakness where his right knee gave out with difficulty walking and right anterior thigh numbness. MRI showed a spinal cord conus mass which was biopsied and found to be anaplastic astrocytoma. Therapy included field radiation t10-l1 followed by 11 cycles of temozolomide 7 days on and 7 days off. This was followed by CPT-11 Weekly x4 with Avastin Q2 weeks/ 2 weeks rest and repeat cycle.</th>\n",
       "    </tr>\n",
       "    <tr>\n",
       "      <th>1</th>\n",
       "      <th></th>\n",
       "    </tr>\n",
       "  </thead>\n",
       "  <tbody>\n",
       "    <tr>\n",
       "      <th>2</th>\n",
       "      <td>48 M with a h/o HTN hyperlipidemia, bicuspid ...</td>\n",
       "    </tr>\n",
       "    <tr>\n",
       "      <th>3</th>\n",
       "      <td>A 32 yo woman who presents following a severe...</td>\n",
       "    </tr>\n",
       "    <tr>\n",
       "      <th>4</th>\n",
       "      <td>This is a 44 year old female with PMH of PCOS...</td>\n",
       "    </tr>\n",
       "    <tr>\n",
       "      <th>5</th>\n",
       "      <td>74M hx of CAD s/p CABG, EF 60% prior CVA (no ...</td>\n",
       "    </tr>\n",
       "    <tr>\n",
       "      <th>6</th>\n",
       "      <td>Patient is a 55yo woman with h/o ESRD on HD a...</td>\n",
       "    </tr>\n",
       "    <tr>\n",
       "      <th>...</th>\n",
       "      <td>...</td>\n",
       "    </tr>\n",
       "    <tr>\n",
       "      <th>71</th>\n",
       "      <td>The patient is a 34-year-old obese woman who ...</td>\n",
       "    </tr>\n",
       "    <tr>\n",
       "      <th>72</th>\n",
       "      <td>The patient is a 16-year-old girl recently di...</td>\n",
       "    </tr>\n",
       "    <tr>\n",
       "      <th>73</th>\n",
       "      <td>The patient is a 3-day-old female infant with...</td>\n",
       "    </tr>\n",
       "    <tr>\n",
       "      <th>74</th>\n",
       "      <td>The patient is a 53-year-old man complaining ...</td>\n",
       "    </tr>\n",
       "    <tr>\n",
       "      <th>75</th>\n",
       "      <td>The patient is a 55-year-old man who was rece...</td>\n",
       "    </tr>\n",
       "  </tbody>\n",
       "</table>\n",
       "<p>74 rows × 1 columns</p>\n",
       "</div>"
      ],
      "text/plain": [
       "    Patient is a 45-year-old man with a history of anaplastic astrocytoma of the spine complicated by severe lower extremity weakness and urinary retention s/p Foley catheter, high-dose steroids, hypertension, and chronic pain. The tumor is located in the T-L spine, unresectable anaplastic astrocytoma s/p radiation. Complicated by progressive lower extremity weakness and urinary retention. Patient initially presented with RLE weakness where his right knee gave out with difficulty walking and right anterior thigh numbness. MRI showed a spinal cord conus mass which was biopsied and found to be anaplastic astrocytoma. Therapy included field radiation t10-l1 followed by 11 cycles of temozolomide 7 days on and 7 days off. This was followed by CPT-11 Weekly x4 with Avastin Q2 weeks/ 2 weeks rest and repeat cycle. \n",
       "1                                                                                                                                                                                                                                                                                                                                                                                                                                                                                                                                                                                                                                                                                                                                                                                                                                                  \n",
       "2    48 M with a h/o HTN hyperlipidemia, bicuspid ...                                                                                                                                                                                                                                                                                                                                                                                                                                                                                                                                                                                                                                                                                                                                                                                              \n",
       "3    A 32 yo woman who presents following a severe...                                                                                                                                                                                                                                                                                                                                                                                                                                                                                                                                                                                                                                                                                                                                                                                              \n",
       "4    This is a 44 year old female with PMH of PCOS...                                                                                                                                                                                                                                                                                                                                                                                                                                                                                                                                                                                                                                                                                                                                                                                              \n",
       "5    74M hx of CAD s/p CABG, EF 60% prior CVA (no ...                                                                                                                                                                                                                                                                                                                                                                                                                                                                                                                                                                                                                                                                                                                                                                                              \n",
       "6    Patient is a 55yo woman with h/o ESRD on HD a...                                                                                                                                                                                                                                                                                                                                                                                                                                                                                                                                                                                                                                                                                                                                                                                              \n",
       "..                                                ...                                                                                                                                                                                                                                                                                                                                                                                                                                                                                                                                                                                                                                                                                                                                                                                              \n",
       "71   The patient is a 34-year-old obese woman who ...                                                                                                                                                                                                                                                                                                                                                                                                                                                                                                                                                                                                                                                                                                                                                                                              \n",
       "72   The patient is a 16-year-old girl recently di...                                                                                                                                                                                                                                                                                                                                                                                                                                                                                                                                                                                                                                                                                                                                                                                              \n",
       "73   The patient is a 3-day-old female infant with...                                                                                                                                                                                                                                                                                                                                                                                                                                                                                                                                                                                                                                                                                                                                                                                              \n",
       "74   The patient is a 53-year-old man complaining ...                                                                                                                                                                                                                                                                                                                                                                                                                                                                                                                                                                                                                                                                                                                                                                                              \n",
       "75   The patient is a 55-year-old man who was rece...                                                                                                                                                                                                                                                                                                                                                                                                                                                                                                                                                                                                                                                                                                                                                                                              \n",
       "\n",
       "[74 rows x 1 columns]"
      ]
     },
     "execution_count": 40,
     "metadata": {},
     "output_type": "execute_result"
    }
   ],
   "source": [
    "queries = pd.read_csv(\n",
    "    \"../input/ctqueries2021.tsv\", sep=\"\\t\", index_col = 0, index = [\"topic\"]\n",
    ")\n",
    "queries"
   ]
  },
  {
   "cell_type": "code",
   "execution_count": 1,
   "id": "01b49127-46c0-4c23-925d-f90aa1f8fbc9",
   "metadata": {},
   "outputs": [],
   "source": [
    "import torch.nn as nn\n",
    "import torch"
   ]
  },
  {
   "cell_type": "code",
   "execution_count": 14,
   "id": "f726c1fd-ee7a-4117-944a-939e69ff135e",
   "metadata": {
    "tags": []
   },
   "outputs": [],
   "source": [
    "criterion = nn.CrossEntropyLoss(weight = torch.tensor([0.3, 0.2, 0.5], dtype = torch.float64).to('cuda'), reduction = \"mean\")"
   ]
  },
  {
   "cell_type": "code",
   "execution_count": 15,
   "id": "c686e213-ac5e-492f-ae0a-bc3aaf75e21e",
   "metadata": {
    "tags": []
   },
   "outputs": [],
   "source": [
    "a = torch.tensor([[0.1, 0.2, 0.7], [0.2, 0.1, 0.7]], dtype = torch.float64).to('cuda')\n",
    "b = torch.tensor([2, 2], dtype = torch.long).to('cuda')"
   ]
  },
  {
   "cell_type": "code",
   "execution_count": 16,
   "id": "8a02d02c-405f-4404-a819-53358dd65d27",
   "metadata": {
    "tags": []
   },
   "outputs": [
    {
     "data": {
      "text/plain": [
       "tensor(0.7679, device='cuda:0', dtype=torch.float64)"
      ]
     },
     "execution_count": 16,
     "metadata": {},
     "output_type": "execute_result"
    }
   ],
   "source": [
    "criterion(a, b)"
   ]
  },
  {
   "cell_type": "code",
   "execution_count": 12,
   "id": "91e6e449-6e7c-455b-ab7b-ac021fa61e13",
   "metadata": {
    "tags": []
   },
   "outputs": [],
   "source": [
    "from transformers.models.bert.tokenization_bert import BertTokenizer "
   ]
  },
  {
   "cell_type": "code",
   "execution_count": 20,
   "id": "374cabc6-3464-41f4-864f-2b0e2266fe32",
   "metadata": {
    "tags": []
   },
   "outputs": [],
   "source": [
    "tokenizer = BertTokenizer.from_pretrained('bert-base-uncased')"
   ]
  },
  {
   "cell_type": "code",
   "execution_count": 29,
   "id": "af57c096-6b54-4afa-83a0-37ea3abd2d53",
   "metadata": {
    "tags": []
   },
   "outputs": [
    {
     "data": {
      "text/plain": [
       "'[CLS] hello [SEP] there [SEP]'"
      ]
     },
     "execution_count": 29,
     "metadata": {},
     "output_type": "execute_result"
    }
   ],
   "source": [
    "enc = tokenizer.encode(\"Hello\", \"there\", truncation=\"only_first\")\n",
    "tokenizer.decode(enc)"
   ]
  },
  {
   "cell_type": "markdown",
   "id": "df4b37b8-868f-4e46-8728-ef8a130dd6d6",
   "metadata": {
    "jp-MarkdownHeadingCollapsed": true,
    "tags": []
   },
   "source": [
    "# Visualize"
   ]
  },
  {
   "cell_type": "code",
   "execution_count": 1,
   "id": "1b9cb881-87de-4834-8ec9-508fdc125bc4",
   "metadata": {
    "tags": []
   },
   "outputs": [],
   "source": [
    "import json\n",
    "from tqdm import trange\n",
    "with open(\"../input/trec-ct-json/trec_cl.jsonl\", \"r\") as f:\n",
    "    docs = [json.loads(doc) for doc in f.read().splitlines()]"
   ]
  },
  {
   "cell_type": "code",
   "execution_count": 2,
   "id": "63f519a2-159e-4eff-b56f-b2a48742ef4c",
   "metadata": {
    "tags": []
   },
   "outputs": [
    {
     "name": "stderr",
     "output_type": "stream",
     "text": [
      "100%|██████████| 375580/375580 [00:00<00:00, 1639927.89it/s]\n"
     ]
    }
   ],
   "source": [
    "cleaned_docs = []\n",
    "for idx in trange(len(docs)):\n",
    "    cleaned_docs.append({\n",
    "        \"id\": docs[idx][\"id\"],\n",
    "        \"contents\": docs[idx][\"contents\"]\n",
    "    })\n",
    "\n",
    "with open(\"../input/trec-ct-json/trec21_content.json\", \"w\") as f:\n",
    "    json.dump(cleaned_docs, f)"
   ]
  },
  {
   "cell_type": "code",
   "execution_count": 9,
   "id": "3aee121b-fbd1-4bf0-91dc-7b672860d89a",
   "metadata": {
    "tags": []
   },
   "outputs": [],
   "source": [
    "with open(\"../input/ctqueries2021.tsv\", \"r\") as f:\n",
    "    queries = f.read().splitlines()"
   ]
  },
  {
   "cell_type": "code",
   "execution_count": 10,
   "id": "dc721d44-1c39-4a29-9ba9-9c152b5ee803",
   "metadata": {
    "tags": []
   },
   "outputs": [],
   "source": [
    "queries = [queries[idx].split(\"\\t\")[1].strip()+'\\n' for idx in range(len(queries))]"
   ]
  },
  {
   "cell_type": "code",
   "execution_count": 11,
   "id": "6cc03889-5ae6-4456-af00-40c0481c3218",
   "metadata": {
    "tags": []
   },
   "outputs": [],
   "source": [
    "with open(\"../input/ctqueries2021.txt\", \"w\") as f:\n",
    "    f.writelines(queries)"
   ]
  },
  {
   "cell_type": "markdown",
   "id": "b3cd7b07-722a-4b9c-aa59-fb126021899a",
   "metadata": {
    "jp-MarkdownHeadingCollapsed": true,
    "tags": []
   },
   "source": [
    "# ElasticSearch"
   ]
  },
  {
   "cell_type": "code",
   "execution_count": 3,
   "id": "cd613ad4-3c62-480e-a7e0-4bb539204818",
   "metadata": {
    "tags": []
   },
   "outputs": [
    {
     "name": "stderr",
     "output_type": "stream",
     "text": [
      "100%|██████████| 10000/10000 [00:40<00:00, 245.93it/s]\n"
     ]
    },
    {
     "name": "stdout",
     "output_type": "stream",
     "text": [
      "Elapsed Time: 20.069\n"
     ]
    }
   ],
   "source": [
    "from elasticsearch import Elasticsearch\n",
    "import numpy as np\n",
    "from tqdm import trange\n",
    "from glob import glob\n",
    "from timeit import default_timer as timer\n",
    "import json\n",
    "\n",
    "\n",
    "class InvertedIndex:\n",
    "    def __init__(self, user, passwd, index_name):\n",
    "        self.user = user\n",
    "        self.passwd = passwd\n",
    "        self.index_name = index_name\n",
    "        self._initialise_index()\n",
    "        self._create_index()\n",
    "\n",
    "    def _close_index(self):\n",
    "        self.client.indices.close(index=self.index_name)\n",
    "\n",
    "    def _open_index(self):\n",
    "        self.client.indices.open(index=self.index_name)\n",
    "\n",
    "    def _initialise_index(self):\n",
    "        self.client = Elasticsearch(\n",
    "            \"http://localhost:9200\", basic_auth=(self.user, self.passwd)\n",
    "        )\n",
    "\n",
    "    def _delete_index(self):\n",
    "        self._close_index()\n",
    "        self.client.indices.delete(index=self.index_name)\n",
    "\n",
    "    def _create_index(self):\n",
    "        if not self.client.indices.exists(index=self.index_name):\n",
    "            self.client.indices.create(index=self.index_name)\n",
    "\n",
    "        self._close_index()\n",
    "        # create the inverted index\n",
    "        self.client.indices.put_settings(\n",
    "            settings={\n",
    "                \"index\": {\n",
    "                    \"analysis\": {\n",
    "                        \"analyzer\": {\n",
    "                            \"my_analyzer\": {\n",
    "                                \"type\": \"custom\",\n",
    "                                \"tokenizer\": \"standard\",\n",
    "                                \"filter\": [\"lowercase\", \"stop\", \"snowball\"],\n",
    "                            }\n",
    "                        }\n",
    "                    }\n",
    "                }\n",
    "            },\n",
    "            index=self.index_name,\n",
    "        )\n",
    "\n",
    "        self.client.indices.put_mapping(\n",
    "            index=self.index_name,\n",
    "            properties={\n",
    "                \"contents\": {\"type\": \"text\", \"analyzer\": \"my_analyzer\"},\n",
    "            },\n",
    "        )\n",
    "\n",
    "        self._open_index()\n",
    "\n",
    "    def _add_docs(self, path):\n",
    "        # Get some documents\n",
    "        with open(path, \"r\") as f:\n",
    "            docs = json.load(f)\n",
    "\n",
    "        # Add some documents\n",
    "        for idx in trange(len(docs)):\n",
    "            self.client.index(index=self.index_name, id=docs[idx][\"id\"], document={\"contents\": docs[idx][\"contents\"]})\n",
    "\n",
    "    def _search_index(self, match_text):\n",
    "        results = self.client.search(\n",
    "            index=self.index_name,\n",
    "            query={\"match\": \n",
    "                   {\"contents\": \n",
    "                    {\"query\": match_text, \"fuzziness\": 2}\n",
    "                   }\n",
    "                  },\n",
    "            size=1000,\n",
    "        )\n",
    "\n",
    "        return results[\"hits\"]\n",
    "\n",
    "\n",
    "def search_el(DOCS_FILE, QUERY_FILE, WRITE_FILE):\n",
    "    index = InvertedIndex(\"elastic\", \"123456\", \"ir\")\n",
    "    index._add_docs(DOCS_FILE)\n",
    "    with open(QUERY_FILE, \"r\") as f:\n",
    "        queries = f.readlines()\n",
    "\n",
    "    start = timer()\n",
    "    with open(WRITE_FILE, \"w\") as f:\n",
    "        for idx, query in enumerate(queries):\n",
    "            results = index._search_index(query)\n",
    "            # Find the minimum and maximum scores in the results\n",
    "            min_score = min(hit[\"_score\"] for hit in results[\"hits\"])\n",
    "            max_score = max(hit[\"_score\"] for hit in results[\"hits\"])\n",
    "            for res in results[\"hits\"]:\n",
    "                original_score = res[\"_score\"]\n",
    "                normalized_score = (original_score - min_score) / (max_score - min_score)\n",
    "                f.write(f\"{idx} Q0 {res['_id']} {idx+1} {normalized_score} BM25\\n\")\n",
    "            \n",
    "    print(f\"Elapsed Time: {timer() - start:.3f}\")\n",
    "    index._delete_index()\n",
    "\n",
    "if __name__ == \"__main__\":\n",
    "    DOCS_FILE = \"../input/trec-ct-json/trec21_content.json\"\n",
    "    QUERY_FILE = \"../input/ctqueries2021.txt\"\n",
    "    WRITE_FILE = \"../input/BM25_test.txt\"\n",
    "    search_el(DOCS_FILE, QUERY_FILE, WRITE_FILE)"
   ]
  },
  {
   "cell_type": "code",
   "execution_count": 3,
   "id": "75b7d0ed-23ef-4148-b343-9441d2a89608",
   "metadata": {
    "tags": []
   },
   "outputs": [],
   "source": [
    "# index = InvertedIndex(\"elastic\", \"123456\", \"ir\")\n",
    "# index._delete_index()"
   ]
  },
  {
   "cell_type": "code",
   "execution_count": null,
   "id": "2f754f94-5891-4c16-8456-9c451d4280e2",
   "metadata": {},
   "outputs": [],
   "source": []
  }
 ],
 "metadata": {
  "kernelspec": {
   "display_name": "nlp",
   "language": "python",
   "name": "nlp"
  },
  "language_info": {
   "codemirror_mode": {
    "name": "ipython",
    "version": 3
   },
   "file_extension": ".py",
   "mimetype": "text/x-python",
   "name": "python",
   "nbconvert_exporter": "python",
   "pygments_lexer": "ipython3",
   "version": "3.9.12"
  }
 },
 "nbformat": 4,
 "nbformat_minor": 5
}
